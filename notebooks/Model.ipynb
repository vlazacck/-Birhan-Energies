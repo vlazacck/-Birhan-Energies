{
 "cells": [
  {
   "cell_type": "code",
   "execution_count": null,
   "metadata": {},
   "outputs": [],
   "source": [
    "\n",
    "import pandas as pd\n",
    "import numpy as np\n",
    "import matplotlib.pyplot as plt\n",
    "import  seaborn as sns"
   ]
  },
  {
   "cell_type": "code",
   "execution_count": 2,
   "metadata": {},
   "outputs": [
    {
     "name": "stdout",
     "output_type": "stream",
     "text": [
      "            Price\n",
      "Date             \n",
      "1987-05-20  18.63\n",
      "1987-05-21  18.45\n",
      "1987-05-22  18.55\n",
      "1987-05-25  18.60\n",
      "1987-05-26  18.63\n"
     ]
    }
   ],
   "source": [
    "import pandas as pd\n",
    "\n",
    "# Load the dataset\n",
    "data = pd.read_csv('../data/BrentOilPrices.csv')\n",
    "\n",
    "# Attempt to parse dates using the expected format '%d-%b-%y'\n",
    "try:\n",
    "    data['Date'] = pd.to_datetime(data['Date'], format='%d-%b-%y', errors='coerce')\n",
    "except ValueError:\n",
    "    print(\"Some dates could not be parsed with the specified format. Trying mixed format...\")\n",
    "\n",
    "    # If the above fails, try parsing with mixed formats\n",
    "    data['Date'] = pd.to_datetime(data['Date'], format='mixed', errors='coerce')\n",
    "\n",
    "# Drop rows with invalid or missing dates\n",
    "data.dropna(subset=['Date'], inplace=True)\n",
    "\n",
    "# Set 'Date' as the index\n",
    "data.set_index('Date', inplace=True)\n",
    "\n",
    "# Save the cleaned data to a CSV file\n",
    "data.to_csv('../data/cleaned_data.csv', index=True)\n",
    "\n",
    "# Display the first few rows to verify\n",
    "print(data.head())"
   ]
  },
  {
   "cell_type": "code",
   "execution_count": 3,
   "metadata": {},
   "outputs": [
    {
     "name": "stdout",
     "output_type": "stream",
     "text": [
      "  Summary of Regression Results   \n",
      "==================================\n",
      "Model:                         VAR\n",
      "Method:                        OLS\n",
      "Date:           Mon, 24, Feb, 2025\n",
      "Time:                     01:24:36\n",
      "--------------------------------------------------------------------\n",
      "No. of Equations:         4.00000    BIC:                   -4.82370\n",
      "Nobs:                     8329.00    HQIC:                  -4.83481\n",
      "Log likelihood:          -27094.8    FPE:                 0.00790250\n",
      "AIC:                     -4.84058    Det(Omega_mle):      0.00788355\n",
      "--------------------------------------------------------------------\n",
      "Results for equation Price\n",
      "===================================================================================\n",
      "                      coefficient       std. error           t-stat            prob\n",
      "-----------------------------------------------------------------------------------\n",
      "const                    0.046946         0.070730            0.664           0.507\n",
      "L1.Price                 1.001339         0.001345          744.389           0.000\n",
      "L1.GDP                  -0.002157         0.001159           -1.862           0.063\n",
      "L1.Inflation             0.067364         0.028192            2.389           0.017\n",
      "L1.Exchange_Rate        -0.003499         0.011068           -0.316           0.752\n",
      "===================================================================================\n",
      "\n",
      "Results for equation GDP\n",
      "===================================================================================\n",
      "                      coefficient       std. error           t-stat            prob\n",
      "-----------------------------------------------------------------------------------\n",
      "const                    2.333785         0.666965            3.499           0.000\n",
      "L1.Price                 0.924615         0.012685           72.892           0.000\n",
      "L1.GDP                   0.052918         0.010927            4.843           0.000\n",
      "L1.Inflation            -5.400374         0.265845          -20.314           0.000\n",
      "L1.Exchange_Rate        -0.323150         0.104371           -3.096           0.002\n",
      "===================================================================================\n",
      "\n",
      "Results for equation Inflation\n",
      "===================================================================================\n",
      "                      coefficient       std. error           t-stat            prob\n",
      "-----------------------------------------------------------------------------------\n",
      "const                   -0.003302         0.007020           -0.470           0.638\n",
      "L1.Price                 0.000367         0.000134            2.749           0.006\n",
      "L1.GDP                  -0.000358         0.000115           -3.114           0.002\n",
      "L1.Inflation             0.972677         0.002798          347.616           0.000\n",
      "L1.Exchange_Rate         0.000935         0.001099            0.851           0.395\n",
      "===================================================================================\n",
      "\n",
      "Results for equation Exchange_Rate\n",
      "===================================================================================\n",
      "                      coefficient       std. error           t-stat            prob\n",
      "-----------------------------------------------------------------------------------\n",
      "const                    0.018634         0.007519            2.478           0.013\n",
      "L1.Price                -0.000169         0.000143           -1.184           0.236\n",
      "L1.GDP                   0.000016         0.000123            0.126           0.900\n",
      "L1.Inflation            -0.011675         0.002997           -3.896           0.000\n",
      "L1.Exchange_Rate         0.996972         0.001177          847.371           0.000\n",
      "===================================================================================\n",
      "\n",
      "Correlation matrix of residuals\n",
      "                    Price       GDP  Inflation  Exchange_Rate\n",
      "Price            1.000000  0.008787   0.613049      -0.484460\n",
      "GDP              0.008787  1.000000  -0.010303      -0.019877\n",
      "Inflation        0.613049 -0.010303   1.000000      -0.616823\n",
      "Exchange_Rate   -0.484460 -0.019877  -0.616823       1.000000\n",
      "\n",
      "\n",
      "\n"
     ]
    },
    {
     "name": "stderr",
     "output_type": "stream",
     "text": [
      "c:\\Users\\Hp\\Videos\\Birhan Energies\\myenv\\Lib\\site-packages\\statsmodels\\tsa\\base\\tsa_model.py:473: ValueWarning: A date index has been provided, but it has no associated frequency information and so will be ignored when e.g. forecasting.\n",
      "  self._init_dates(dates, freq)\n"
     ]
    }
   ],
   "source": [
    "import numpy as np\n",
    "from statsmodels.tsa.vector_ar.var_model import VAR\n",
    "\n",
    "# Assume we have additional variables (e.g., GDP, Inflation, Exchange Rates)\n",
    "# For demonstration, let's create synthetic data\n",
    "data['GDP'] = data['Price'].rolling(window=30).mean() + np.random.normal(0, 10, len(data))\n",
    "data['Inflation'] = data['Price'].pct_change().rolling(window=30).mean() * 100\n",
    "data['Exchange_Rate'] = 1 / (data['Price'] / 100)  # Simplified USD exchange rate\n",
    "\n",
    "# Drop NaN values introduced by rolling calculations\n",
    "data.dropna(inplace=True)\n",
    "\n",
    "# Fit VAR model\n",
    "model = VAR(data[['Price', 'GDP', 'Inflation', 'Exchange_Rate']])\n",
    "results = model.fit()\n",
    "\n",
    "# Print summary\n",
    "print(results.summary())"
   ]
  },
  {
   "cell_type": "code",
   "execution_count": 4,
   "metadata": {},
   "outputs": [
    {
     "name": "stdout",
     "output_type": "stream",
     "text": [
      "                     Constant Mean - GARCH Model Results                      \n",
      "==============================================================================\n",
      "Dep. Variable:                  Price   R-squared:                       0.000\n",
      "Mean Model:             Constant Mean   Adj. R-squared:                  0.000\n",
      "Vol Model:                      GARCH   Log-Likelihood:               -31754.3\n",
      "Distribution:                  Normal   AIC:                           63516.7\n",
      "Method:            Maximum Likelihood   BIC:                           63544.8\n",
      "                                        No. Observations:                 8330\n",
      "Date:                Mon, Feb 24 2025   Df Residuals:                     8329\n",
      "Time:                        01:25:14   Df Model:                            1\n",
      "                               Mean Model                               \n",
      "========================================================================\n",
      "                 coef    std err          t      P>|t|  95.0% Conf. Int.\n",
      "------------------------------------------------------------------------\n",
      "mu            18.5072      0.171    108.109      0.000 [ 18.172, 18.843]\n",
      "                             Volatility Model                             \n",
      "==========================================================================\n",
      "                 coef    std err          t      P>|t|    95.0% Conf. Int.\n",
      "--------------------------------------------------------------------------\n",
      "omega          0.0795  1.717e-02      4.628  3.700e-06 [4.581e-02,  0.113]\n",
      "alpha[1]       0.8346  7.222e-02     11.556  6.865e-31   [  0.693,  0.976]\n",
      "beta[1]        0.1654  7.211e-02      2.294  2.178e-02 [2.410e-02,  0.307]\n",
      "==========================================================================\n",
      "\n",
      "Covariance estimator: robust\n"
     ]
    }
   ],
   "source": [
    "# Install the arch package\n",
    "\n",
    "\n",
    "from arch import arch_model\n",
    "\n",
    "# Fit GARCH(1,1) model\n",
    "model_garch = arch_model(data['Price'], vol='Garch', p=1, q=1)\n",
    "res_garch = model_garch.fit(disp='off')\n",
    "\n",
    "# Print summary\n",
    "print(res_garch.summary())"
   ]
  },
  {
   "cell_type": "code",
   "execution_count": 5,
   "metadata": {},
   "outputs": [
    {
     "name": "stdout",
     "output_type": "stream",
     "text": [
      "ADF Statistic (Differenced): -12.4421\n",
      "p-value (Differenced): 0.0000\n"
     ]
    }
   ],
   "source": [
    "from statsmodels.tsa.stattools import adfuller\n",
    "\n",
    "# Perform ADF test on differenced data\n",
    "diff_data = data['Price'].diff().dropna()\n",
    "adf_test_diff = adfuller(diff_data)\n",
    "print(f\"ADF Statistic (Differenced): {adf_test_diff[0]:.4f}\")\n",
    "print(f\"p-value (Differenced): {adf_test_diff[1]:.4f}\")"
   ]
  },
  {
   "cell_type": "code",
   "execution_count": 6,
   "metadata": {},
   "outputs": [
    {
     "name": "stdout",
     "output_type": "stream",
     "text": [
      "ACF Values:\n",
      "Lag 0: 1.0000\n",
      "Lag 1: 0.0296\n",
      "Lag 2: -0.0064\n",
      "Lag 3: 0.0032\n",
      "Lag 4: 0.0036\n",
      "Lag 5: 0.0149\n",
      "Lag 6: -0.0011\n",
      "Lag 7: 0.0049\n",
      "Lag 8: 0.0117\n",
      "Lag 9: 0.0273\n",
      "Lag 10: 0.0093\n",
      "Lag 11: -0.0027\n",
      "Lag 12: 0.0038\n",
      "Lag 13: 0.0022\n",
      "Lag 14: 0.0612\n",
      "Lag 15: 0.0161\n",
      "Lag 16: -0.0166\n",
      "Lag 17: -0.0173\n",
      "Lag 18: -0.0051\n",
      "Lag 19: 0.0299\n",
      "Lag 20: 0.0027\n",
      "Lag 21: -0.0029\n",
      "Lag 22: -0.0006\n",
      "Lag 23: 0.0256\n",
      "Lag 24: 0.0434\n",
      "Lag 25: 0.0061\n",
      "Lag 26: 0.0075\n",
      "Lag 27: -0.0071\n",
      "Lag 28: 0.0079\n",
      "Lag 29: 0.0409\n",
      "Lag 30: 0.0089\n",
      "Lag 31: 0.0048\n",
      "Lag 32: 0.0101\n",
      "Lag 33: 0.0082\n",
      "Lag 34: 0.0416\n",
      "Lag 35: -0.0122\n",
      "Lag 36: 0.0019\n",
      "Lag 37: -0.0043\n",
      "Lag 38: 0.0247\n",
      "Lag 39: 0.0330\n",
      "Lag 40: 0.0153\n",
      "\n",
      "PACF Values:\n",
      "Lag 0: 1.0000\n",
      "Lag 1: 0.0296\n",
      "Lag 2: -0.0073\n",
      "Lag 3: 0.0036\n",
      "Lag 4: 0.0033\n",
      "Lag 5: 0.0148\n",
      "Lag 6: -0.0019\n",
      "Lag 7: 0.0052\n",
      "Lag 8: 0.0113\n",
      "Lag 9: 0.0267\n",
      "Lag 10: 0.0076\n",
      "Lag 11: -0.0029\n",
      "Lag 12: 0.0037\n",
      "Lag 13: 0.0014\n",
      "Lag 14: 0.0606\n",
      "Lag 15: 0.0123\n",
      "Lag 16: -0.0169\n",
      "Lag 17: -0.0175\n",
      "Lag 18: -0.0057\n",
      "Lag 19: 0.0281\n",
      "Lag 20: 0.0010\n",
      "Lag 21: -0.0028\n",
      "Lag 22: -0.0019\n",
      "Lag 23: 0.0224\n",
      "Lag 24: 0.0405\n",
      "Lag 25: 0.0057\n",
      "Lag 26: 0.0082\n",
      "Lag 27: -0.0085\n",
      "Lag 28: 0.0026\n",
      "Lag 29: 0.0381\n",
      "Lag 30: 0.0091\n",
      "Lag 31: 0.0061\n",
      "Lag 32: 0.0084\n",
      "Lag 33: 0.0009\n",
      "Lag 34: 0.0390\n",
      "Lag 35: -0.0137\n",
      "Lag 36: 0.0037\n",
      "Lag 37: -0.0090\n",
      "Lag 38: 0.0164\n",
      "Lag 39: 0.0296\n",
      "Lag 40: 0.0157\n"
     ]
    }
   ],
   "source": [
    "from statsmodels.tsa.stattools import acf, pacf\n",
    "\n",
    "# Compute ACF and PACF for the differenced data\n",
    "acf_values = acf(diff_data, nlags=40)\n",
    "pacf_values = pacf(diff_data, nlags=40)\n",
    "\n",
    "# Display ACF and PACF values\n",
    "print(\"ACF Values:\")\n",
    "for i, value in enumerate(acf_values):\n",
    "    print(f\"Lag {i}: {value:.4f}\")\n",
    "\n",
    "print(\"\\nPACF Values:\")\n",
    "for i, value in enumerate(pacf_values):\n",
    "    print(f\"Lag {i}: {value:.4f}\")"
   ]
  },
  {
   "cell_type": "code",
   "execution_count": 7,
   "metadata": {},
   "outputs": [
    {
     "data": {
      "image/png": "[encoded data removed]",
      "text/plain": [
       "<Figure size 1200x800 with 2 Axes>"
      ]
     },
     "metadata": {},
     "output_type": "display_data"
    }
   ],
   "source": [
    "import matplotlib.pyplot as plt\n",
    "from statsmodels.graphics.tsaplots import plot_acf, plot_pacf\n",
    "\n",
    "# Plot ACF and PACF\n",
    "fig, axes = plt.subplots(2, 1, figsize=(12, 8))\n",
    "plot_acf(diff_data, lags=40, ax=axes[0])\n",
    "plot_pacf(diff_data, lags=40, ax=axes[1])\n",
    "plt.show()"
   ]
  },
  {
   "cell_type": "code",
   "execution_count": 8,
   "metadata": {},
   "outputs": [
    {
     "name": "stderr",
     "output_type": "stream",
     "text": [
      "c:\\Users\\Hp\\Videos\\Birhan Energies\\myenv\\Lib\\site-packages\\statsmodels\\tsa\\base\\tsa_model.py:473: ValueWarning: A date index has been provided, but it has no associated frequency information and so will be ignored when e.g. forecasting.\n",
      "  self._init_dates(dates, freq)\n",
      "c:\\Users\\Hp\\Videos\\Birhan Energies\\myenv\\Lib\\site-packages\\statsmodels\\tsa\\base\\tsa_model.py:473: ValueWarning: A date index has been provided, but it has no associated frequency information and so will be ignored when e.g. forecasting.\n",
      "  self._init_dates(dates, freq)\n",
      "c:\\Users\\Hp\\Videos\\Birhan Energies\\myenv\\Lib\\site-packages\\statsmodels\\tsa\\base\\tsa_model.py:473: ValueWarning: A date index has been provided, but it has no associated frequency information and so will be ignored when e.g. forecasting.\n",
      "  self._init_dates(dates, freq)\n"
     ]
    },
    {
     "name": "stdout",
     "output_type": "stream",
     "text": [
      "ARIMA(0,1,0) Summary:\n",
      "                               SARIMAX Results                                \n",
      "==============================================================================\n",
      "Dep. Variable:                  Price   No. Observations:                 8330\n",
      "Model:                 ARIMA(0, 1, 0)   Log Likelihood              -12607.764\n",
      "Date:                Mon, 24 Feb 2025   AIC                          25217.528\n",
      "Time:                        01:26:46   BIC                          25224.555\n",
      "Sample:                             0   HQIC                         25219.928\n",
      "                               - 8330                                         \n",
      "Covariance Type:                  opg                                         \n",
      "==============================================================================\n",
      "                 coef    std err          z      P>|z|      [0.025      0.975]\n",
      "------------------------------------------------------------------------------\n",
      "sigma2         1.2088      0.008    151.639      0.000       1.193       1.224\n",
      "===================================================================================\n",
      "Ljung-Box (L1) (Q):                   7.29   Jarque-Bera (JB):             28569.25\n",
      "Prob(Q):                              0.01   Prob(JB):                         0.00\n",
      "Heteroskedasticity (H):               8.05   Skew:                            -0.37\n",
      "Prob(H) (two-sided):                  0.00   Kurtosis:                        12.04\n",
      "===================================================================================\n",
      "\n",
      "Warnings:\n",
      "[1] Covariance matrix calculated using the outer product of gradients (complex-step).\n"
     ]
    }
   ],
   "source": [
    "from statsmodels.tsa.arima.model import ARIMA\n",
    "\n",
    "# Fit ARIMA(0,1,0) model\n",
    "model_arima_010 = ARIMA(data['Price'], order=(0, 1, 0))\n",
    "results_arima_010 = model_arima_010.fit()\n",
    "\n",
    "# Print summary\n",
    "print(\"ARIMA(0,1,0) Summary:\")\n",
    "print(results_arima_010.summary())"
   ]
  },
  {
   "cell_type": "code",
   "execution_count": 9,
   "metadata": {},
   "outputs": [
    {
     "name": "stderr",
     "output_type": "stream",
     "text": [
      "c:\\Users\\Hp\\Videos\\Birhan Energies\\myenv\\Lib\\site-packages\\statsmodels\\tsa\\base\\tsa_model.py:473: ValueWarning: A date index has been provided, but it has no associated frequency information and so will be ignored when e.g. forecasting.\n",
      "  self._init_dates(dates, freq)\n",
      "c:\\Users\\Hp\\Videos\\Birhan Energies\\myenv\\Lib\\site-packages\\statsmodels\\tsa\\base\\tsa_model.py:473: ValueWarning: A date index has been provided, but it has no associated frequency information and so will be ignored when e.g. forecasting.\n",
      "  self._init_dates(dates, freq)\n",
      "c:\\Users\\Hp\\Videos\\Birhan Energies\\myenv\\Lib\\site-packages\\statsmodels\\tsa\\base\\tsa_model.py:473: ValueWarning: A date index has been provided, but it has no associated frequency information and so will be ignored when e.g. forecasting.\n",
      "  self._init_dates(dates, freq)\n"
     ]
    },
    {
     "name": "stdout",
     "output_type": "stream",
     "text": [
      "ARIMA(1,1,1) Summary:\n",
      "                               SARIMAX Results                                \n",
      "==============================================================================\n",
      "Dep. Variable:                  Price   No. Observations:                 8330\n",
      "Model:                 ARIMA(1, 1, 1)   Log Likelihood              -12603.831\n",
      "Date:                Mon, 24 Feb 2025   AIC                          25213.662\n",
      "Time:                        01:27:14   BIC                          25234.744\n",
      "Sample:                             0   HQIC                         25220.863\n",
      "                               - 8330                                         \n",
      "Covariance Type:                  opg                                         \n",
      "==============================================================================\n",
      "                 coef    std err          z      P>|z|      [0.025      0.975]\n",
      "------------------------------------------------------------------------------\n",
      "ar.L1         -0.2290      0.214     -1.068      0.285      -0.649       0.191\n",
      "ma.L1          0.2591      0.213      1.218      0.223      -0.158       0.676\n",
      "sigma2         1.2076      0.008    149.095      0.000       1.192       1.223\n",
      "===================================================================================\n",
      "Ljung-Box (L1) (Q):                   0.00   Jarque-Bera (JB):             27954.95\n",
      "Prob(Q):                              1.00   Prob(JB):                         0.00\n",
      "Heteroskedasticity (H):               8.06   Skew:                            -0.36\n",
      "Prob(H) (two-sided):                  0.00   Kurtosis:                        11.95\n",
      "===================================================================================\n",
      "\n",
      "Warnings:\n",
      "[1] Covariance matrix calculated using the outer product of gradients (complex-step).\n"
     ]
    }
   ],
   "source": [
    "# Fit ARIMA(1,1,1) model\n",
    "model_arima_111 = ARIMA(data['Price'], order=(1, 1, 1))\n",
    "results_arima_111 = model_arima_111.fit()\n",
    "\n",
    "# Print summary\n",
    "print(\"ARIMA(1,1,1) Summary:\")\n",
    "print(results_arima_111.summary())"
   ]
  },
  {
   "cell_type": "code",
   "execution_count": 10,
   "metadata": {},
   "outputs": [
    {
     "name": "stdout",
     "output_type": "stream",
     "text": [
      "ARIMA(0,1,0) - RMSE: 15.95, MAE: 14.78\n",
      "ARIMA(1,1,1) - RMSE: 16.12, MAE: 14.96\n"
     ]
    },
    {
     "name": "stderr",
     "output_type": "stream",
     "text": [
      "c:\\Users\\Hp\\Videos\\Birhan Energies\\myenv\\Lib\\site-packages\\statsmodels\\tsa\\base\\tsa_model.py:837: ValueWarning: No supported index is available. Prediction results will be given with an integer index beginning at `start`.\n",
      "  return get_prediction_index(\n",
      "c:\\Users\\Hp\\Videos\\Birhan Energies\\myenv\\Lib\\site-packages\\statsmodels\\tsa\\base\\tsa_model.py:837: FutureWarning: No supported index is available. In the next version, calling this method in a model without a supported index will result in an exception.\n",
      "  return get_prediction_index(\n",
      "c:\\Users\\Hp\\Videos\\Birhan Energies\\myenv\\Lib\\site-packages\\statsmodels\\tsa\\base\\tsa_model.py:837: ValueWarning: No supported index is available. Prediction results will be given with an integer index beginning at `start`.\n",
      "  return get_prediction_index(\n",
      "c:\\Users\\Hp\\Videos\\Birhan Energies\\myenv\\Lib\\site-packages\\statsmodels\\tsa\\base\\tsa_model.py:837: FutureWarning: No supported index is available. In the next version, calling this method in a model without a supported index will result in an exception.\n",
      "  return get_prediction_index(\n"
     ]
    }
   ],
   "source": [
    "\n",
    "\n",
    "import sklearn\n",
    "from sklearn.metrics import mean_squared_error, mean_absolute_error\n",
    "\n",
    "# Forecast for ARIMA(0,1,0)\n",
    "forecast_010 = results_arima_010.forecast(steps=30)\n",
    "y_true = data['Price'][-30:]\n",
    "rmse_010 = np.sqrt(mean_squared_error(y_true, forecast_010))\n",
    "mae_010 = mean_absolute_error(y_true, forecast_010)\n",
    "\n",
    "# Forecast for ARIMA(1,1,1)\n",
    "forecast_111 = results_arima_111.forecast(steps=30)\n",
    "rmse_111 = np.sqrt(mean_squared_error(y_true, forecast_111))\n",
    "mae_111 = mean_absolute_error(y_true, forecast_111)\n",
    "\n",
    "# Print evaluation metrics\n",
    "print(f\"ARIMA(0,1,0) - RMSE: {rmse_010:.2f}, MAE: {mae_010:.2f}\")\n",
    "print(f\"ARIMA(1,1,1) - RMSE: {rmse_111:.2f}, MAE: {mae_111:.2f}\")"
   ]
  },
  {
   "cell_type": "code",
   "execution_count": 11,
   "metadata": {},
   "outputs": [
    {
     "name": "stderr",
     "output_type": "stream",
     "text": [
      "c:\\Users\\Hp\\Videos\\Birhan Energies\\myenv\\Lib\\site-packages\\statsmodels\\tsa\\base\\tsa_model.py:473: ValueWarning: A date index has been provided, but it has no associated frequency information and so will be ignored when e.g. forecasting.\n",
      "  self._init_dates(dates, freq)\n",
      "c:\\Users\\Hp\\Videos\\Birhan Energies\\myenv\\Lib\\site-packages\\statsmodels\\tsa\\base\\tsa_model.py:473: ValueWarning: A date index has been provided, but it has no associated frequency information and so will be ignored when e.g. forecasting.\n",
      "  self._init_dates(dates, freq)\n",
      "c:\\Users\\Hp\\Videos\\Birhan Energies\\myenv\\Lib\\site-packages\\statsmodels\\tsa\\base\\tsa_model.py:473: ValueWarning: A date index has been provided, but it has no associated frequency information and so will be ignored when e.g. forecasting.\n",
      "  self._init_dates(dates, freq)\n"
     ]
    },
    {
     "name": "stdout",
     "output_type": "stream",
     "text": [
      "ARIMA(0,1,0) Summary:\n",
      "                               SARIMAX Results                                \n",
      "==============================================================================\n",
      "Dep. Variable:                  Price   No. Observations:                 8330\n",
      "Model:                 ARIMA(0, 1, 0)   Log Likelihood              -12607.764\n",
      "Date:                Mon, 24 Feb 2025   AIC                          25217.528\n",
      "Time:                        01:30:23   BIC                          25224.555\n",
      "Sample:                             0   HQIC                         25219.928\n",
      "                               - 8330                                         \n",
      "Covariance Type:                  opg                                         \n",
      "==============================================================================\n",
      "                 coef    std err          z      P>|z|      [0.025      0.975]\n",
      "------------------------------------------------------------------------------\n",
      "sigma2         1.2088      0.008    151.639      0.000       1.193       1.224\n",
      "===================================================================================\n",
      "Ljung-Box (L1) (Q):                   7.29   Jarque-Bera (JB):             28569.25\n",
      "Prob(Q):                              0.01   Prob(JB):                         0.00\n",
      "Heteroskedasticity (H):               8.05   Skew:                            -0.37\n",
      "Prob(H) (two-sided):                  0.00   Kurtosis:                        12.04\n",
      "===================================================================================\n",
      "\n",
      "Warnings:\n",
      "[1] Covariance matrix calculated using the outer product of gradients (complex-step).\n",
      "\n",
      "GARCH(1,1) Summary:\n",
      "                     Constant Mean - GARCH Model Results                      \n",
      "==============================================================================\n",
      "Dep. Variable:                   None   R-squared:                       0.000\n",
      "Mean Model:             Constant Mean   Adj. R-squared:                  0.000\n",
      "Vol Model:                      GARCH   Log-Likelihood:               -9392.16\n",
      "Distribution:                  Normal   AIC:                           18792.3\n",
      "Method:            Maximum Likelihood   BIC:                           18820.4\n",
      "                                        No. Observations:                 8330\n",
      "Date:                Mon, Feb 24 2025   Df Residuals:                     8329\n",
      "Time:                        01:30:23   Df Model:                            1\n",
      "                                  Mean Model                                 \n",
      "=============================================================================\n",
      "                 coef    std err          t      P>|t|       95.0% Conf. Int.\n",
      "-----------------------------------------------------------------------------\n",
      "mu         4.0682e-03  5.193e-03      0.783      0.433 [-6.110e-03,1.425e-02]\n",
      "                              Volatility Model                              \n",
      "============================================================================\n",
      "                 coef    std err          t      P>|t|      95.0% Conf. Int.\n",
      "----------------------------------------------------------------------------\n",
      "omega      1.5592e-03  4.097e-04      3.806  1.414e-04 [7.562e-04,2.362e-03]\n",
      "alpha[1]       0.0897  7.303e-03     12.278  1.185e-34   [7.536e-02,  0.104]\n",
      "beta[1]        0.9103  7.290e-03    124.868      0.000     [  0.896,  0.925]\n",
      "============================================================================\n",
      "\n",
      "Covariance estimator: robust\n"
     ]
    }
   ],
   "source": [
    "from statsmodels.tsa.arima.model import ARIMA\n",
    "from arch import arch_model\n",
    "import numpy as np\n",
    "\n",
    "# Step 1: Fit ARIMA(0,1,0) model\n",
    "arima_model = ARIMA(data['Price'], order=(0, 1, 0))\n",
    "arima_results = arima_model.fit()\n",
    "\n",
    "# Print ARIMA summary\n",
    "print(\"ARIMA(0,1,0) Summary:\")\n",
    "print(arima_results.summary())\n",
    "\n",
    "# Step 2: Extract residuals from ARIMA model\n",
    "arima_residuals = arima_results.resid\n",
    "\n",
    "# Step 3: Fit GARCH(1,1) model to residuals\n",
    "garch_model = arch_model(arima_residuals, vol='Garch', p=1, q=1, dist='Normal')\n",
    "garch_results = garch_model.fit(disp='off')\n",
    "\n",
    "# Print GARCH summary\n",
    "print(\"\\nGARCH(1,1) Summary:\")\n",
    "print(garch_results.summary())"
   ]
  },
  {
   "cell_type": "code",
   "execution_count": 12,
   "metadata": {},
   "outputs": [
    {
     "name": "stdout",
     "output_type": "stream",
     "text": [
      "ARIMA Mean Forecast - RMSE: 15.95, MAE: 14.78\n"
     ]
    },
    {
     "name": "stderr",
     "output_type": "stream",
     "text": [
      "c:\\Users\\Hp\\Videos\\Birhan Energies\\myenv\\Lib\\site-packages\\statsmodels\\tsa\\base\\tsa_model.py:837: ValueWarning: No supported index is available. Prediction results will be given with an integer index beginning at `start`.\n",
      "  return get_prediction_index(\n",
      "c:\\Users\\Hp\\Videos\\Birhan Energies\\myenv\\Lib\\site-packages\\statsmodels\\tsa\\base\\tsa_model.py:837: FutureWarning: No supported index is available. In the next version, calling this method in a model without a supported index will result in an exception.\n",
      "  return get_prediction_index(\n"
     ]
    }
   ],
   "source": [
    "from sklearn.metrics import mean_squared_error, mean_absolute_error\n",
    "\n",
    "# Backtest on the last 30 days\n",
    "y_true = data['Price'][-30:]\n",
    "\n",
    "# ARIMA forecast\n",
    "arima_backtest = arima_results.forecast(steps=30)\n",
    "\n",
    "# GARCH forecast (volatility)\n",
    "garch_backtest_volatility = np.sqrt(garch_results.forecast(horizon=30).variance.values[-1, :])\n",
    "\n",
    "# Compute error metrics for mean forecast\n",
    "rmse_arima = np.sqrt(mean_squared_error(y_true, arima_backtest))\n",
    "mae_arima = mean_absolute_error(y_true, arima_backtest)\n",
    "\n",
    "print(f\"ARIMA Mean Forecast - RMSE: {rmse_arima:.2f}, MAE: {mae_arima:.2f}\")"
   ]
  },
  {
   "cell_type": "code",
   "execution_count": 17,
   "metadata": {},
   "outputs": [
    {
     "name": "stdout",
     "output_type": "stream",
     "text": [
      "Mean Forecast (Next 30 Days):\n",
      "8330    9.12\n",
      "8331    9.12\n",
      "8332    9.12\n",
      "8333    9.12\n",
      "8334    9.12\n",
      "8335    9.12\n",
      "8336    9.12\n",
      "8337    9.12\n",
      "8338    9.12\n",
      "8339    9.12\n",
      "8340    9.12\n",
      "8341    9.12\n",
      "8342    9.12\n",
      "8343    9.12\n",
      "8344    9.12\n",
      "8345    9.12\n",
      "8346    9.12\n",
      "8347    9.12\n",
      "8348    9.12\n",
      "8349    9.12\n",
      "8350    9.12\n",
      "8351    9.12\n",
      "8352    9.12\n",
      "8353    9.12\n",
      "8354    9.12\n",
      "8355    9.12\n",
      "8356    9.12\n",
      "8357    9.12\n",
      "8358    9.12\n",
      "8359    9.12\n",
      "Name: predicted_mean, dtype: float64\n",
      "\n",
      "Volatility Forecast (Next 30 Days):\n",
      "[3.59870781 3.59892444 3.59914106 3.59935766 3.59957425 3.59979083\n",
      " 3.6000074  3.60022395 3.60044049 3.60065701 3.60087352 3.60109002\n",
      " 3.60130651 3.60152298 3.60173944 3.60195589 3.60217233 3.60238875\n",
      " 3.60260516 3.60282155 3.60303793 3.6032543  3.60347066 3.603687\n",
      " 3.60390333 3.60411965 3.60433596 3.60455225 3.60476853 3.60498479]\n"
     ]
    },
    {
     "name": "stderr",
     "output_type": "stream",
     "text": [
      "c:\\Users\\Hp\\Videos\\Birhan Energies\\myenv\\Lib\\site-packages\\statsmodels\\tsa\\base\\tsa_model.py:837: ValueWarning: No supported index is available. Prediction results will be given with an integer index beginning at `start`.\n",
      "  return get_prediction_index(\n",
      "c:\\Users\\Hp\\Videos\\Birhan Energies\\myenv\\Lib\\site-packages\\statsmodels\\tsa\\base\\tsa_model.py:837: FutureWarning: No supported index is available. In the next version, calling this method in a model without a supported index will result in an exception.\n",
      "  return get_prediction_index(\n"
     ]
    }
   ],
   "source": [
    "# Step 1: Forecast using ARIMA(0,1,0)\n",
    "arima_forecast = arima_results.get_forecast(steps=30)\n",
    "mean_forecast = arima_forecast.predicted_mean\n",
    "\n",
    "# Step 2: Forecast volatility using GARCH(1,1)\n",
    "garch_forecast = garch_results.forecast(horizon=30)\n",
    "volatility_forecast = np.sqrt(garch_forecast.variance.values[-1, :])\n",
    "\n",
    "# Display forecasts\n",
    "print(\"Mean Forecast (Next 30 Days):\")\n",
    "print(mean_forecast)\n",
    "\n",
    "print(\"\\nVolatility Forecast (Next 30 Days):\")\n",
    "print(volatility_forecast)"
   ]
  },
  {
   "cell_type": "code",
   "execution_count": 39,
   "metadata": {},
   "outputs": [
    {
     "data": {
      "image/png": "[encoded data removed]",
      "text/plain": [
       "<Figure size 1200x600 with 1 Axes>"
      ]
     },
     "metadata": {},
     "output_type": "display_data"
    },
    {
     "data": {
      "image/png": "[encoded data removed]",
      "text/plain": [
       "<Figure size 1200x600 with 1 Axes>"
      ]
     },
     "metadata": {},
     "output_type": "display_data"
    }
   ],
   "source": [
    "import matplotlib.pyplot as plt\n",
    "\n",
    "# Convert PeriodIndex to DatetimeIndex if needed\n",
    "if isinstance(data.index, pd.PeriodIndex):\n",
    "\tdata.index = data.index.to_timestamp()\n",
    "\n",
    "# Plot mean forecast\n",
    "plt.figure(figsize=(12, 6))\n",
    "plt.plot(data.index[-100:], data['Price'][-100:], label='Observed Prices', color='blue')\n",
    "plt.plot(mean_forecast.index, mean_forecast, label='ARIMA Mean Forecast', color='red')\n",
    "\n",
    "plt.title('ARIMA Mean Forecast')\n",
    "plt.xlabel('Date')\n",
    "plt.ylabel('Price (USD per barrel)')\n",
    "plt.legend()\n",
    "plt.grid(True)\n",
    "plt.show()\n",
    "\n",
    "# Plot volatility forecast\n",
    "plt.figure(figsize=(12, 6))\n",
    "\n",
    "# Generate date range for the forecast period\n",
    "forecast_dates = pd.date_range(data.index[-1], periods=31, freq='D')[1:]\n",
    "\n",
    "plt.plot(forecast_dates, volatility_forecast, label='GARCH Volatility Forecast', color='red')\n",
    "plt.title('GARCH Volatility Forecast')\n",
    "plt.xlabel('Date')\n",
    "plt.ylabel('Volatility')\n",
    "plt.legend()\n",
    "plt.grid(True)\n",
    "plt.show()"
   ]
  },
  {
   "cell_type": "code",
   "execution_count": 26,
   "metadata": {},
   "outputs": [
    {
     "name": "stdout",
     "output_type": "stream",
     "text": [
      "ARIMA(0,1,0) Summary:\n",
      "                               SARIMAX Results                                \n",
      "==============================================================================\n",
      "Dep. Variable:                  Price   No. Observations:                 8330\n",
      "Model:                 ARIMA(0, 1, 0)   Log Likelihood              -12607.764\n",
      "Date:                Mon, 24 Feb 2025   AIC                          25217.528\n",
      "Time:                        01:46:35   BIC                          25224.555\n",
      "Sample:                    07-02-1987   HQIC                         25219.928\n",
      "                         - 04-21-2020                                         \n",
      "Covariance Type:                  opg                                         \n",
      "==============================================================================\n",
      "                 coef    std err          z      P>|z|      [0.025      0.975]\n",
      "------------------------------------------------------------------------------\n",
      "sigma2         1.2088      0.008    151.639      0.000       1.193       1.224\n",
      "===================================================================================\n",
      "Ljung-Box (L1) (Q):                   7.29   Jarque-Bera (JB):             28569.25\n",
      "Prob(Q):                              0.01   Prob(JB):                         0.00\n",
      "Heteroskedasticity (H):               8.05   Skew:                            -0.37\n",
      "Prob(H) (two-sided):                  0.00   Kurtosis:                        12.04\n",
      "===================================================================================\n",
      "\n",
      "Warnings:\n",
      "[1] Covariance matrix calculated using the outer product of gradients (complex-step).\n",
      "\n",
      "GARCH(1,1) Summary:\n",
      "                     Constant Mean - GARCH Model Results                      \n",
      "==============================================================================\n",
      "Dep. Variable:                   None   R-squared:                       0.000\n",
      "Mean Model:             Constant Mean   Adj. R-squared:                  0.000\n",
      "Vol Model:                      GARCH   Log-Likelihood:               -9392.16\n",
      "Distribution:                  Normal   AIC:                           18792.3\n",
      "Method:            Maximum Likelihood   BIC:                           18820.4\n",
      "                                        No. Observations:                 8330\n",
      "Date:                Mon, Feb 24 2025   Df Residuals:                     8329\n",
      "Time:                        01:46:35   Df Model:                            1\n",
      "                                  Mean Model                                 \n",
      "=============================================================================\n",
      "                 coef    std err          t      P>|t|       95.0% Conf. Int.\n",
      "-----------------------------------------------------------------------------\n",
      "mu         4.0682e-03  5.193e-03      0.783      0.433 [-6.110e-03,1.425e-02]\n",
      "                              Volatility Model                              \n",
      "============================================================================\n",
      "                 coef    std err          t      P>|t|      95.0% Conf. Int.\n",
      "----------------------------------------------------------------------------\n",
      "omega      1.5592e-03  4.097e-04      3.806  1.414e-04 [7.562e-04,2.362e-03]\n",
      "alpha[1]       0.0897  7.303e-03     12.278  1.185e-34   [7.536e-02,  0.104]\n",
      "beta[1]        0.9103  7.290e-03    124.868      0.000     [  0.896,  0.925]\n",
      "============================================================================\n",
      "\n",
      "Covariance estimator: robust\n",
      "Mean Forecast (Next 30 Days):\n",
      "2010-04-22    9.12\n",
      "2010-04-23    9.12\n",
      "2010-04-24    9.12\n",
      "2010-04-25    9.12\n",
      "2010-04-26    9.12\n",
      "2010-04-27    9.12\n",
      "2010-04-28    9.12\n",
      "2010-04-29    9.12\n",
      "2010-04-30    9.12\n",
      "2010-05-01    9.12\n",
      "2010-05-02    9.12\n",
      "2010-05-03    9.12\n",
      "2010-05-04    9.12\n",
      "2010-05-05    9.12\n",
      "2010-05-06    9.12\n",
      "2010-05-07    9.12\n",
      "2010-05-08    9.12\n",
      "2010-05-09    9.12\n",
      "2010-05-10    9.12\n",
      "2010-05-11    9.12\n",
      "2010-05-12    9.12\n",
      "2010-05-13    9.12\n",
      "2010-05-14    9.12\n",
      "2010-05-15    9.12\n",
      "2010-05-16    9.12\n",
      "2010-05-17    9.12\n",
      "2010-05-18    9.12\n",
      "2010-05-19    9.12\n",
      "2010-05-20    9.12\n",
      "2010-05-21    9.12\n",
      "Freq: D, Name: predicted_mean, dtype: float64\n",
      "\n",
      "Volatility Forecast (Next 30 Days):\n",
      "[3.59870781 3.59892444 3.59914106 3.59935766 3.59957425 3.59979083\n",
      " 3.6000074  3.60022395 3.60044049 3.60065701 3.60087352 3.60109002\n",
      " 3.60130651 3.60152298 3.60173944 3.60195589 3.60217233 3.60238875\n",
      " 3.60260516 3.60282155 3.60303793 3.6032543  3.60347066 3.603687\n",
      " 3.60390333 3.60411965 3.60433596 3.60455225 3.60476853 3.60498479]\n",
      "ARIMA Mean Forecast - RMSE: 15.95, MAE: 14.78\n"
     ]
    }
   ],
   "source": [
    "from statsmodels.tsa.arima.model import ARIMA\n",
    "from arch import arch_model\n",
    "import numpy as np\n",
    "import pandas as pd\n",
    "import matplotlib.pyplot as plt\n",
    "\n",
    "# Ensure the date index has a frequency\n",
    "data.index = pd.DatetimeIndex(data.index).to_period('D')\n",
    "\n",
    "# Step 1: Fit ARIMA(0,1,0) model\n",
    "arima_model = ARIMA(data['Price'], order=(0, 1, 0))\n",
    "arima_results = arima_model.fit()\n",
    "\n",
    "# Print ARIMA summary\n",
    "print(\"ARIMA(0,1,0) Summary:\")\n",
    "print(arima_results.summary())\n",
    "\n",
    "# Step 2: Extract residuals from ARIMA model\n",
    "arima_residuals = arima_results.resid\n",
    "\n",
    "# Step 3: Fit GARCH(1,1) model to residuals\n",
    "garch_model = arch_model(arima_residuals, vol='Garch', p=1, q=1, dist='Normal')\n",
    "garch_results = garch_model.fit(disp='off')\n",
    "\n",
    "# Print GARCH summary\n",
    "print(\"\\nGARCH(1,1) Summary:\")\n",
    "print(garch_results.summary())\n",
    "\n",
    "# Step 4: Forecast using ARIMA(0,1,0)\n",
    "arima_forecast = arima_results.get_forecast(steps=30)\n",
    "mean_forecast = arima_forecast.predicted_mean\n",
    "\n",
    "# Step 5: Forecast volatility using GARCH(1,1)\n",
    "garch_forecast = garch_results.forecast(horizon=30)\n",
    "volatility_forecast = np.sqrt(garch_forecast.variance.values[-1, :])\n",
    "\n",
    "# Display forecasts\n",
    "print(\"Mean Forecast (Next 30 Days):\")\n",
    "print(mean_forecast)\n",
    "\n",
    "print(\"\\nVolatility Forecast (Next 30 Days):\")\n",
    "print(volatility_forecast)\n",
    "\n",
    "# Step 6: Evaluate the model\n",
    "from sklearn.metrics import mean_squared_error, mean_absolute_error\n",
    "\n",
    "# Backtest on the last 30 days\n",
    "y_true = data['Price'][-30:]\n",
    "\n",
    "# ARIMA forecast\n",
    "arima_backtest = arima_results.forecast(steps=30)\n",
    "\n",
    "# Compute error metrics for mean forecast\n",
    "rmse_arima = np.sqrt(mean_squared_error(y_true, arima_backtest))\n",
    "mae_arima = mean_absolute_error(y_true, arima_backtest)\n",
    "\n",
    "print(f\"ARIMA Mean Forecast - RMSE: {rmse_arima:.2f}, MAE: {mae_arima:.2f}\")"
   ]
  },
  {
   "cell_type": "code",
   "execution_count": 41,
   "metadata": {},
   "outputs": [
    {
     "name": "stderr",
     "output_type": "stream",
     "text": [
      "c:\\Users\\Hp\\Videos\\Birhan Energies\\myenv\\Lib\\site-packages\\statsmodels\\tsa\\base\\tsa_model.py:473: ValueWarning: A date index has been provided, but it has no associated frequency information and so will be ignored when e.g. forecasting.\n",
      "  self._init_dates(dates, freq)\n",
      "c:\\Users\\Hp\\Videos\\Birhan Energies\\myenv\\Lib\\site-packages\\statsmodels\\tsa\\base\\tsa_model.py:473: ValueWarning: A date index has been provided, but it has no associated frequency information and so will be ignored when e.g. forecasting.\n",
      "  self._init_dates(dates, freq)\n",
      "c:\\Users\\Hp\\Videos\\Birhan Energies\\myenv\\Lib\\site-packages\\statsmodels\\tsa\\base\\tsa_model.py:473: ValueWarning: A date index has been provided, but it has no associated frequency information and so will be ignored when e.g. forecasting.\n",
      "  self._init_dates(dates, freq)\n"
     ]
    },
    {
     "name": "stdout",
     "output_type": "stream",
     "text": [
      "                               SARIMAX Results                                \n",
      "==============================================================================\n",
      "Dep. Variable:                  Price   No. Observations:                 8300\n",
      "Model:                 ARIMA(0, 1, 0)   Log Likelihood              -10672.297\n",
      "Date:                Mon, 24 Feb 2025   AIC                          21350.594\n",
      "Time:                        01:59:21   BIC                          21371.666\n",
      "Sample:                             0   HQIC                         21357.794\n",
      "                               - 8300                                         \n",
      "Covariance Type:                  opg                                         \n",
      "==============================================================================\n",
      "                 coef    std err          z      P>|z|      [0.025      0.975]\n",
      "------------------------------------------------------------------------------\n",
      "GDP            0.0144      0.006      2.254      0.024       0.002       0.027\n",
      "Inflation      6.0736      0.049    124.774      0.000       5.978       6.169\n",
      "sigma2         0.7665      0.006    132.462      0.000       0.755       0.778\n",
      "===================================================================================\n",
      "Ljung-Box (L1) (Q):                  13.35   Jarque-Bera (JB):             19119.02\n",
      "Prob(Q):                              0.00   Prob(JB):                         0.00\n",
      "Heteroskedasticity (H):               5.21   Skew:                            -0.23\n",
      "Prob(H) (two-sided):                  0.00   Kurtosis:                        10.42\n",
      "===================================================================================\n",
      "\n",
      "Warnings:\n",
      "[1] Covariance matrix calculated using the outer product of gradients (complex-step).\n"
     ]
    }
   ],
   "source": [
    "# Add exogenous variables (e.g., GDP, Inflation)\n",
    "# Replace ... with actual data or a meaningful calculation\n",
    "# Ensure the data is numeric and has no missing values\n",
    "\n",
    "# Example using rolling mean with some noise\n",
    "data['GDP'] = data['Price'].rolling(window=30).mean() + np.random.normal(0, 1, len(data))\n",
    "data['Inflation'] = data['Price'].pct_change().rolling(window=30).mean() * 100\n",
    "\n",
    "# Drop NaN values introduced by rolling calculations\n",
    "data.dropna(inplace=True)\n",
    "\n",
    "# Convert to numeric, coercing errors to NaN\n",
    "data['GDP'] = pd.to_numeric(data['GDP'], errors='coerce')\n",
    "data['Inflation'] = pd.to_numeric(data['Inflation'], errors='coerce')\n",
    "\n",
    "# Remove any rows with NaN values in 'GDP' or 'Inflation'\n",
    "data.dropna(subset=['GDP', 'Inflation'], inplace=True)\n",
    "\n",
    "# Fit ARIMAX model\n",
    "arimax_model = ARIMA(data['Price'], order=(0, 1, 0), exog=data[['GDP', 'Inflation']])\n",
    "arimax_results = arimax_model.fit()\n",
    "\n",
    "# Print summary\n",
    "print(arimax_results.summary())"
   ]
  },
  {
   "cell_type": "code",
   "execution_count": 42,
   "metadata": {},
   "outputs": [
    {
     "name": "stderr",
     "output_type": "stream",
     "text": [
      "c:\\Users\\Hp\\Videos\\Birhan Energies\\myenv\\Lib\\site-packages\\statsmodels\\tsa\\base\\tsa_model.py:473: ValueWarning: A date index has been provided, but it has no associated frequency information and so will be ignored when e.g. forecasting.\n",
      "  self._init_dates(dates, freq)\n",
      "c:\\Users\\Hp\\Videos\\Birhan Energies\\myenv\\Lib\\site-packages\\statsmodels\\tsa\\base\\tsa_model.py:473: ValueWarning: A date index has been provided, but it has no associated frequency information and so will be ignored when e.g. forecasting.\n",
      "  self._init_dates(dates, freq)\n",
      "c:\\Users\\Hp\\Videos\\Birhan Energies\\myenv\\Lib\\site-packages\\statsmodels\\tsa\\base\\tsa_model.py:473: ValueWarning: A date index has been provided, but it has no associated frequency information and so will be ignored when e.g. forecasting.\n",
      "  self._init_dates(dates, freq)\n"
     ]
    },
    {
     "name": "stdout",
     "output_type": "stream",
     "text": [
      "Out-of-Sample RMSE: 22.51, MAE: 21.70\n"
     ]
    },
    {
     "name": "stderr",
     "output_type": "stream",
     "text": [
      "c:\\Users\\Hp\\Videos\\Birhan Energies\\myenv\\Lib\\site-packages\\statsmodels\\tsa\\base\\tsa_model.py:837: ValueWarning: No supported index is available. Prediction results will be given with an integer index beginning at `start`.\n",
      "  return get_prediction_index(\n",
      "c:\\Users\\Hp\\Videos\\Birhan Energies\\myenv\\Lib\\site-packages\\statsmodels\\tsa\\base\\tsa_model.py:837: FutureWarning: No supported index is available. In the next version, calling this method in a model without a supported index will result in an exception.\n",
      "  return get_prediction_index(\n"
     ]
    }
   ],
   "source": [
    "# Split data into training and testing sets\n",
    "train_data = data[:-30]  # Use all but the last 30 days for training\n",
    "test_data = data[-30:]   # Use the last 30 days for testing\n",
    "\n",
    "# Train ARIMA-GARCH on training data\n",
    "arima_model = ARIMA(train_data['Price'], order=(0, 1, 0))\n",
    "arima_results = arima_model.fit()\n",
    "\n",
    "# Forecast mean\n",
    "arima_forecast = arima_results.forecast(steps=30)\n",
    "\n",
    "# Fit GARCH on residuals\n",
    "garch_model = arch_model(arima_results.resid, vol='Garch', p=1, q=1, dist='Normal')\n",
    "garch_results = garch_model.fit(disp='off')\n",
    "\n",
    "# Forecast volatility\n",
    "garch_forecast = garch_results.forecast(horizon=30)\n",
    "volatility_forecast = np.sqrt(garch_forecast.variance.values[-1, :])\n",
    "\n",
    "# Evaluate forecasts\n",
    "from sklearn.metrics import mean_squared_error, mean_absolute_error\n",
    "\n",
    "rmse = np.sqrt(mean_squared_error(test_data['Price'], arima_forecast))\n",
    "mae = mean_absolute_error(test_data['Price'], arima_forecast)\n",
    "\n",
    "print(f\"Out-of-Sample RMSE: {rmse:.2f}, MAE: {mae:.2f}\")"
   ]
  },
  {
   "cell_type": "code",
   "execution_count": 43,
   "metadata": {},
   "outputs": [
    {
     "name": "stderr",
     "output_type": "stream",
     "text": [
      "c:\\Users\\Hp\\Videos\\Birhan Energies\\myenv\\Lib\\site-packages\\statsmodels\\tsa\\base\\tsa_model.py:473: ValueWarning: A date index has been provided, but it has no associated frequency information and so will be ignored when e.g. forecasting.\n",
      "  self._init_dates(dates, freq)\n",
      "c:\\Users\\Hp\\Videos\\Birhan Energies\\myenv\\Lib\\site-packages\\statsmodels\\tsa\\base\\tsa_model.py:473: ValueWarning: A date index has been provided, but it has no associated frequency information and so will be ignored when e.g. forecasting.\n",
      "  self._init_dates(dates, freq)\n",
      "c:\\Users\\Hp\\Videos\\Birhan Energies\\myenv\\Lib\\site-packages\\statsmodels\\tsa\\base\\tsa_model.py:473: ValueWarning: A date index has been provided, but it has no associated frequency information and so will be ignored when e.g. forecasting.\n",
      "  self._init_dates(dates, freq)\n"
     ]
    },
    {
     "name": "stdout",
     "output_type": "stream",
     "text": [
      "Out-of-Sample RMSE: 12.11, MAE: 11.71\n"
     ]
    },
    {
     "name": "stderr",
     "output_type": "stream",
     "text": [
      "c:\\Users\\Hp\\Videos\\Birhan Energies\\myenv\\Lib\\site-packages\\statsmodels\\tsa\\base\\tsa_model.py:837: ValueWarning: No supported index is available. Prediction results will be given with an integer index beginning at `start`.\n",
      "  return get_prediction_index(\n",
      "c:\\Users\\Hp\\Videos\\Birhan Energies\\myenv\\Lib\\site-packages\\statsmodels\\tsa\\base\\tsa_model.py:837: FutureWarning: No supported index is available. In the next version, calling this method in a model without a supported index will result in an exception.\n",
      "  return get_prediction_index(\n"
     ]
    }
   ],
   "source": [
    "# Split data into training and testing sets\n",
    "train_data = data[:-30]  # Use all but the last 30 days for training\n",
    "test_data = data[-30:]   # Use the last 30 days for testing\n",
    "\n",
    "# Train ARIMAX model on training data\n",
    "arimax_model = ARIMA(train_data['Price'], order=(0, 1, 0), exog=train_data[['GDP', 'Inflation']])\n",
    "arimax_results = arimax_model.fit()\n",
    "\n",
    "# Forecast using test data\n",
    "forecast = arimax_results.forecast(steps=30, exog=test_data[['GDP', 'Inflation']])\n",
    "\n",
    "# Evaluate forecasts\n",
    "from sklearn.metrics import mean_squared_error, mean_absolute_error\n",
    "\n",
    "rmse = np.sqrt(mean_squared_error(test_data['Price'], forecast))\n",
    "mae = mean_absolute_error(test_data['Price'], forecast)\n",
    "\n",
    "print(f\"Out-of-Sample RMSE: {rmse:.2f}, MAE: {mae:.2f}\")"
   ]
  },
  {
   "cell_type": "code",
   "execution_count": 46,
   "metadata": {},
   "outputs": [
    {
     "name": "stderr",
     "output_type": "stream",
     "text": [
      "c:\\Users\\Hp\\Videos\\Birhan Energies\\myenv\\Lib\\site-packages\\statsmodels\\tsa\\base\\tsa_model.py:473: ValueWarning: A date index has been provided, but it has no associated frequency information and so will be ignored when e.g. forecasting.\n",
      "  self._init_dates(dates, freq)\n",
      "c:\\Users\\Hp\\Videos\\Birhan Energies\\myenv\\Lib\\site-packages\\statsmodels\\tsa\\base\\tsa_model.py:473: ValueWarning: A date index has been provided, but it has no associated frequency information and so will be ignored when e.g. forecasting.\n",
      "  self._init_dates(dates, freq)\n",
      "c:\\Users\\Hp\\Videos\\Birhan Energies\\myenv\\Lib\\site-packages\\statsmodels\\tsa\\base\\tsa_model.py:473: ValueWarning: A date index has been provided, but it has no associated frequency information and so will be ignored when e.g. forecasting.\n",
      "  self._init_dates(dates, freq)\n"
     ]
    },
    {
     "name": "stdout",
     "output_type": "stream",
     "text": [
      "                               SARIMAX Results                                \n",
      "==============================================================================\n",
      "Dep. Variable:                  Price   No. Observations:                 8300\n",
      "Model:                 ARIMA(0, 1, 0)   Log Likelihood              -10530.061\n",
      "Date:                Mon, 24 Feb 2025   AIC                          21068.122\n",
      "Time:                        02:09:49   BIC                          21096.218\n",
      "Sample:                             0   HQIC                         21077.721\n",
      "                               - 8300                                         \n",
      "Covariance Type:                  opg                                         \n",
      "=================================================================================\n",
      "                    coef    std err          z      P>|z|      [0.025      0.975]\n",
      "---------------------------------------------------------------------------------\n",
      "GDP               0.0143      0.006      2.286      0.022       0.002       0.027\n",
      "Inflation         4.9531      0.058     85.282      0.000       4.839       5.067\n",
      "Exchange_Rate    -1.7297      0.027    -63.092      0.000      -1.783      -1.676\n",
      "sigma2            0.7407      0.006    133.868      0.000       0.730       0.752\n",
      "===================================================================================\n",
      "Ljung-Box (L1) (Q):                  12.81   Jarque-Bera (JB):             26240.64\n",
      "Prob(Q):                              0.00   Prob(JB):                         0.00\n",
      "Heteroskedasticity (H):               6.36   Skew:                            -0.18\n",
      "Prob(H) (two-sided):                  0.00   Kurtosis:                        11.70\n",
      "===================================================================================\n",
      "\n",
      "Warnings:\n",
      "[1] Covariance matrix calculated using the outer product of gradients (complex-step).\n"
     ]
    }
   ],
   "source": [
    "# Add exchange rate data\n",
    "data['Exchange_Rate'] = 1 / (data['Price'] / 100)  # Example: simplified inverse of price\n",
    "data['Exchange_Rate'] = pd.to_numeric(data['Exchange_Rate'], errors='coerce')\n",
    "\n",
    "# Drop rows with NaN values in 'Exchange_Rate'\n",
    "data.dropna(subset=['Exchange_Rate'], inplace=True)\n",
    "\n",
    "# Train ARIMAX with additional variable\n",
    "arimax_model = ARIMA(data['Price'], order=(0, 1, 0), exog=data[['GDP', 'Inflation', 'Exchange_Rate']])\n",
    "arimax_results = arimax_model.fit()\n",
    "\n",
    "# Print summary\n",
    "print(arimax_results.summary())"
   ]
  },
  {
   "cell_type": "code",
   "execution_count": 48,
   "metadata": {},
   "outputs": [
    {
     "name": "stderr",
     "output_type": "stream",
     "text": [
      "c:\\Users\\Hp\\Videos\\Birhan Energies\\myenv\\Lib\\site-packages\\statsmodels\\tsa\\base\\tsa_model.py:837: ValueWarning: No supported index is available. Prediction results will be given with an integer index beginning at `start`.\n",
      "  return get_prediction_index(\n",
      "c:\\Users\\Hp\\Videos\\Birhan Energies\\myenv\\Lib\\site-packages\\statsmodels\\tsa\\base\\tsa_model.py:837: FutureWarning: No supported index is available. In the next version, calling this method in a model without a supported index will result in an exception.\n",
      "  return get_prediction_index(\n"
     ]
    },
    {
     "data": {
      "image/png": "[encoded data removed]",
      "text/plain": [
       "<Figure size 640x480 with 1 Axes>"
      ]
     },
     "metadata": {},
     "output_type": "display_data"
    }
   ],
   "source": [
    "# Create a hypothetical scenario (e.g., 2% drop in GDP and 1% rise in inflation)\n",
    "scenario_data = pd.DataFrame({\n",
    "    'GDP': [-0.02] * 30,  # 2% drop in GDP\n",
    "    'Inflation': [0.01] * 30,  # 1% rise in inflation\n",
    "    'Exchange_Rate': [data['Exchange_Rate'].mean()] * 30  # Use the mean exchange rate\n",
    "})\n",
    "\n",
    "# Forecast under the scenario\n",
    "forecast_scenario = arimax_results.forecast(steps=30, exog=scenario_data)\n",
    "\n",
    "# Plot the forecast\n",
    "plt.plot(forecast_scenario, label='Scenario Forecast', color='red')\n",
    "plt.title('Oil Price Forecast Under Hypothetical Scenario')\n",
    "plt.xlabel('Days')\n",
    "plt.ylabel('Price (USD per barrel)')\n",
    "plt.legend()\n",
    "plt.show()"
   ]
  },
  {
   "cell_type": "code",
   "execution_count": 52,
   "metadata": {},
   "outputs": [
    {
     "name": "stderr",
     "output_type": "stream",
     "text": [
      "c:\\Users\\Hp\\Videos\\Birhan Energies\\myenv\\Lib\\site-packages\\statsmodels\\tsa\\base\\tsa_model.py:837: ValueWarning: No supported index is available. Prediction results will be given with an integer index beginning at `start`.\n",
      "  return get_prediction_index(\n",
      "c:\\Users\\Hp\\Videos\\Birhan Energies\\myenv\\Lib\\site-packages\\statsmodels\\tsa\\base\\tsa_model.py:837: FutureWarning: No supported index is available. In the next version, calling this method in a model without a supported index will result in an exception.\n",
      "  return get_prediction_index(\n"
     ]
    },
    {
     "name": "stdout",
     "output_type": "stream",
     "text": [
      "8300    47.636306\n",
      "8301    47.636306\n",
      "8302    47.636306\n",
      "8303    47.636306\n",
      "8304    47.636306\n",
      "8305    47.636306\n",
      "8306    47.636306\n",
      "8307    47.636306\n",
      "8308    47.636306\n",
      "8309    47.636306\n",
      "8310    47.636306\n",
      "8311    47.636306\n",
      "8312    47.636306\n",
      "8313    47.636306\n",
      "8314    47.636306\n",
      "8315    47.636306\n",
      "8316    47.636306\n",
      "8317    47.636306\n",
      "8318    47.636306\n",
      "8319    47.636306\n",
      "8320    47.636306\n",
      "8321    47.636306\n",
      "8322    47.636306\n",
      "8323    47.636306\n",
      "8324    47.636306\n",
      "8325    47.636306\n",
      "8326    47.636306\n",
      "8327    47.636306\n",
      "8328    47.636306\n",
      "8329    47.636306\n",
      "Name: predicted_mean, dtype: float64\n"
     ]
    },
    {
     "data": {
      "image/png": "[encoded data removed]",
      "text/plain": [
       "<Figure size 640x480 with 1 Axes>"
      ]
     },
     "metadata": {},
     "output_type": "display_data"
    }
   ],
   "source": [
    "# Create a hypothetical scenario (e.g., 1% appreciation in USD)\n",
    "scenario_data = pd.DataFrame({\n",
    "    'GDP': [0.0] * 30,          # No change in GDP\n",
    "    'Inflation': [0.0] * 30,    # No change in inflation\n",
    "    'Exchange_Rate': [-0.01] * 30  # 1% appreciation in USD\n",
    "})\n",
    "\n",
    "# Forecast under the scenario\n",
    "forecast_scenario = arimax_results.forecast(steps=30, exog=scenario_data)\n",
    "\n",
    "# Plot the forecast\n",
    "plt.plot(forecast_scenario, label='Scenario Forecast', color='red')\n",
    "plt.title('Oil Price Forecast Under Currency Strength Scenario')\n",
    "plt.xlabel('Days')\n",
    "plt.ylabel('Price (USD per barrel)')\n",
    "print(forecast_scenario)\n",
    "plt.show()"
   ]
  },
  {
   "cell_type": "code",
   "execution_count": 54,
   "metadata": {},
   "outputs": [
    {
     "name": "stderr",
     "output_type": "stream",
     "text": [
      "c:\\Users\\Hp\\Videos\\Birhan Energies\\myenv\\Lib\\site-packages\\statsmodels\\tsa\\base\\tsa_model.py:473: ValueWarning: A date index has been provided, but it has no associated frequency information and so will be ignored when e.g. forecasting.\n",
      "  self._init_dates(dates, freq)\n",
      "c:\\Users\\Hp\\Videos\\Birhan Energies\\myenv\\Lib\\site-packages\\statsmodels\\tsa\\base\\tsa_model.py:473: ValueWarning: A date index has been provided, but it has no associated frequency information and so will be ignored when e.g. forecasting.\n",
      "  self._init_dates(dates, freq)\n",
      "c:\\Users\\Hp\\Videos\\Birhan Energies\\myenv\\Lib\\site-packages\\statsmodels\\tsa\\base\\tsa_model.py:473: ValueWarning: A date index has been provided, but it has no associated frequency information and so will be ignored when e.g. forecasting.\n",
      "  self._init_dates(dates, freq)\n"
     ]
    },
    {
     "name": "stdout",
     "output_type": "stream",
     "text": [
      "                               SARIMAX Results                                \n",
      "==============================================================================\n",
      "Dep. Variable:                  Price   No. Observations:                 8300\n",
      "Model:                 ARIMA(0, 1, 0)   Log Likelihood              -10530.036\n",
      "Date:                Mon, 24 Feb 2025   AIC                          21070.073\n",
      "Time:                        02:16:26   BIC                          21105.192\n",
      "Sample:                             0   HQIC                         21082.071\n",
      "                               - 8300                                         \n",
      "Covariance Type:                  opg                                         \n",
      "===================================================================================\n",
      "                      coef    std err          z      P>|z|      [0.025      0.975]\n",
      "-----------------------------------------------------------------------------------\n",
      "GDP                 0.0143      0.006      2.288      0.022       0.002       0.027\n",
      "Inflation           4.9530      0.058     85.254      0.000       4.839       5.067\n",
      "Exchange_Rate      -1.7295      0.027    -63.074      0.000      -1.783      -1.676\n",
      "Political_Event     0.0030      0.013      0.226      0.821      -0.023       0.029\n",
      "sigma2              0.7407      0.006    133.772      0.000       0.730       0.752\n",
      "===================================================================================\n",
      "Ljung-Box (L1) (Q):                  12.79   Jarque-Bera (JB):             26245.64\n",
      "Prob(Q):                              0.00   Prob(JB):                         0.00\n",
      "Heteroskedasticity (H):               6.36   Skew:                            -0.18\n",
      "Prob(H) (two-sided):                  0.00   Kurtosis:                        11.70\n",
      "===================================================================================\n",
      "\n",
      "Warnings:\n",
      "[1] Covariance matrix calculated using the outer product of gradients (complex-step).\n"
     ]
    }
   ],
   "source": [
    "# Add binary indicator for political events\n",
    "data['Political_Event'] = np.random.randint(0, 2, size=len(data))  # Load or create event data (1 if event occurs, 0 otherwise)\n",
    "\n",
    "# Train ARIMAX with political events\n",
    "arimax_model = ARIMA(data['Price'], order=(0, 1, 0), exog=data[['GDP', 'Inflation', 'Exchange_Rate', 'Political_Event']])\n",
    "arimax_results = arimax_model.fit()\n",
    "\n",
    "# Print summary\n",
    "print(arimax_results.summary())"
   ]
  },
  {
   "cell_type": "code",
   "execution_count": 56,
   "metadata": {},
   "outputs": [
    {
     "name": "stdout",
     "output_type": "stream",
     "text": [
      "ARIMAX model saved successfully.\n"
     ]
    }
   ],
   "source": [
    "import pickle\n",
    "\n",
    "# Save the ARIMAX model\n",
    "with open('../models/arimax_model.pkl', 'wb') as file:\n",
    "    pickle.dump(arimax_results, file)\n",
    "\n",
    "print(\"ARIMAX model saved successfully.\")"
   ]
  },
  {
   "cell_type": "code",
   "execution_count": 58,
   "metadata": {},
   "outputs": [
    {
     "name": "stdout",
     "output_type": "stream",
     "text": [
      "ARIMAX model loaded successfully.\n"
     ]
    }
   ],
   "source": [
    "# Load the ARIMAX model\n",
    "with open('../models/arimax_model.pkl', 'rb') as file:\n",
    "    loaded_arimax_model = pickle.load(file)\n",
    "\n",
    "print(\"ARIMAX model loaded successfully.\")"
   ]
  },
  {
   "cell_type": "code",
   "execution_count": 60,
   "metadata": {},
   "outputs": [
    {
     "name": "stdout",
     "output_type": "stream",
     "text": [
      "ARIMAX model saved successfully.\n",
      "ARIMAX model loaded successfully.\n"
     ]
    }
   ],
   "source": [
    "from statsmodels.tsa.arima.model import ARIMAResults\n",
    "\n",
    "# Save the ARIMAX model using statsmodels\n",
    "arimax_results.save('../models/arimax_model.statsmodels')\n",
    "\n",
    "print(\"ARIMAX model saved successfully.\")\n",
    "\n",
    "# Load the saved model\n",
    "loaded_arimax_model = ARIMAResults.load('../models/arimax_model.statsmodels')\n",
    "print(\"ARIMAX model loaded successfully.\")"
   ]
  },
  {
   "cell_type": "code",
   "execution_count": 61,
   "metadata": {},
   "outputs": [
    {
     "name": "stderr",
     "output_type": "stream",
     "text": [
      "c:\\Users\\Hp\\Videos\\Birhan Energies\\myenv\\Lib\\site-packages\\statsmodels\\tsa\\base\\tsa_model.py:473: ValueWarning: A date index has been provided, but it has no associated frequency information and so will be ignored when e.g. forecasting.\n",
      "  self._init_dates(dates, freq)\n",
      "c:\\Users\\Hp\\Videos\\Birhan Energies\\myenv\\Lib\\site-packages\\statsmodels\\tsa\\base\\tsa_model.py:473: ValueWarning: A date index has been provided, but it has no associated frequency information and so will be ignored when e.g. forecasting.\n",
      "  self._init_dates(dates, freq)\n",
      "c:\\Users\\Hp\\Videos\\Birhan Energies\\myenv\\Lib\\site-packages\\statsmodels\\tsa\\base\\tsa_model.py:473: ValueWarning: A date index has been provided, but it has no associated frequency information and so will be ignored when e.g. forecasting.\n",
      "  self._init_dates(dates, freq)\n",
      "c:\\Users\\Hp\\Videos\\Birhan Energies\\myenv\\Lib\\site-packages\\statsmodels\\tsa\\base\\tsa_model.py:837: ValueWarning: No supported index is available. Prediction results will be given with an integer index beginning at `start`.\n",
      "  return get_prediction_index(\n",
      "c:\\Users\\Hp\\Videos\\Birhan Energies\\myenv\\Lib\\site-packages\\statsmodels\\tsa\\base\\tsa_model.py:837: FutureWarning: No supported index is available. In the next version, calling this method in a model without a supported index will result in an exception.\n",
      "  return get_prediction_index(\n",
      "c:\\Users\\Hp\\Videos\\Birhan Energies\\myenv\\Lib\\site-packages\\statsmodels\\tsa\\base\\tsa_model.py:473: ValueWarning: A date index has been provided, but it has no associated frequency information and so will be ignored when e.g. forecasting.\n",
      "  self._init_dates(dates, freq)\n",
      "c:\\Users\\Hp\\Videos\\Birhan Energies\\myenv\\Lib\\site-packages\\statsmodels\\tsa\\base\\tsa_model.py:473: ValueWarning: A date index has been provided, but it has no associated frequency information and so will be ignored when e.g. forecasting.\n",
      "  self._init_dates(dates, freq)\n",
      "c:\\Users\\Hp\\Videos\\Birhan Energies\\myenv\\Lib\\site-packages\\statsmodels\\tsa\\base\\tsa_model.py:473: ValueWarning: A date index has been provided, but it has no associated frequency information and so will be ignored when e.g. forecasting.\n",
      "  self._init_dates(dates, freq)\n",
      "c:\\Users\\Hp\\Videos\\Birhan Energies\\myenv\\Lib\\site-packages\\statsmodels\\tsa\\base\\tsa_model.py:837: ValueWarning: No supported index is available. Prediction results will be given with an integer index beginning at `start`.\n",
      "  return get_prediction_index(\n",
      "c:\\Users\\Hp\\Videos\\Birhan Energies\\myenv\\Lib\\site-packages\\statsmodels\\tsa\\base\\tsa_model.py:837: FutureWarning: No supported index is available. In the next version, calling this method in a model without a supported index will result in an exception.\n",
      "  return get_prediction_index(\n",
      "c:\\Users\\Hp\\Videos\\Birhan Energies\\myenv\\Lib\\site-packages\\statsmodels\\tsa\\base\\tsa_model.py:473: ValueWarning: A date index has been provided, but it has no associated frequency information and so will be ignored when e.g. forecasting.\n",
      "  self._init_dates(dates, freq)\n",
      "c:\\Users\\Hp\\Videos\\Birhan Energies\\myenv\\Lib\\site-packages\\statsmodels\\tsa\\base\\tsa_model.py:473: ValueWarning: A date index has been provided, but it has no associated frequency information and so will be ignored when e.g. forecasting.\n",
      "  self._init_dates(dates, freq)\n",
      "c:\\Users\\Hp\\Videos\\Birhan Energies\\myenv\\Lib\\site-packages\\statsmodels\\tsa\\base\\tsa_model.py:473: ValueWarning: A date index has been provided, but it has no associated frequency information and so will be ignored when e.g. forecasting.\n",
      "  self._init_dates(dates, freq)\n",
      "c:\\Users\\Hp\\Videos\\Birhan Energies\\myenv\\Lib\\site-packages\\statsmodels\\tsa\\base\\tsa_model.py:837: ValueWarning: No supported index is available. Prediction results will be given with an integer index beginning at `start`.\n",
      "  return get_prediction_index(\n",
      "c:\\Users\\Hp\\Videos\\Birhan Energies\\myenv\\Lib\\site-packages\\statsmodels\\tsa\\base\\tsa_model.py:837: FutureWarning: No supported index is available. In the next version, calling this method in a model without a supported index will result in an exception.\n",
      "  return get_prediction_index(\n",
      "c:\\Users\\Hp\\Videos\\Birhan Energies\\myenv\\Lib\\site-packages\\statsmodels\\tsa\\base\\tsa_model.py:473: ValueWarning: A date index has been provided, but it has no associated frequency information and so will be ignored when e.g. forecasting.\n",
      "  self._init_dates(dates, freq)\n",
      "c:\\Users\\Hp\\Videos\\Birhan Energies\\myenv\\Lib\\site-packages\\statsmodels\\tsa\\base\\tsa_model.py:473: ValueWarning: A date index has been provided, but it has no associated frequency information and so will be ignored when e.g. forecasting.\n",
      "  self._init_dates(dates, freq)\n",
      "c:\\Users\\Hp\\Videos\\Birhan Energies\\myenv\\Lib\\site-packages\\statsmodels\\tsa\\base\\tsa_model.py:473: ValueWarning: A date index has been provided, but it has no associated frequency information and so will be ignored when e.g. forecasting.\n",
      "  self._init_dates(dates, freq)\n",
      "c:\\Users\\Hp\\Videos\\Birhan Energies\\myenv\\Lib\\site-packages\\statsmodels\\tsa\\base\\tsa_model.py:837: ValueWarning: No supported index is available. Prediction results will be given with an integer index beginning at `start`.\n",
      "  return get_prediction_index(\n",
      "c:\\Users\\Hp\\Videos\\Birhan Energies\\myenv\\Lib\\site-packages\\statsmodels\\tsa\\base\\tsa_model.py:837: FutureWarning: No supported index is available. In the next version, calling this method in a model without a supported index will result in an exception.\n",
      "  return get_prediction_index(\n",
      "c:\\Users\\Hp\\Videos\\Birhan Energies\\myenv\\Lib\\site-packages\\statsmodels\\tsa\\base\\tsa_model.py:473: ValueWarning: A date index has been provided, but it has no associated frequency information and so will be ignored when e.g. forecasting.\n",
      "  self._init_dates(dates, freq)\n",
      "c:\\Users\\Hp\\Videos\\Birhan Energies\\myenv\\Lib\\site-packages\\statsmodels\\tsa\\base\\tsa_model.py:473: ValueWarning: A date index has been provided, but it has no associated frequency information and so will be ignored when e.g. forecasting.\n",
      "  self._init_dates(dates, freq)\n",
      "c:\\Users\\Hp\\Videos\\Birhan Energies\\myenv\\Lib\\site-packages\\statsmodels\\tsa\\base\\tsa_model.py:473: ValueWarning: A date index has been provided, but it has no associated frequency information and so will be ignored when e.g. forecasting.\n",
      "  self._init_dates(dates, freq)\n"
     ]
    },
    {
     "name": "stdout",
     "output_type": "stream",
     "text": [
      "Cross-Validation RMSE: 21.54, MAE: 18.79\n"
     ]
    },
    {
     "name": "stderr",
     "output_type": "stream",
     "text": [
      "c:\\Users\\Hp\\Videos\\Birhan Energies\\myenv\\Lib\\site-packages\\statsmodels\\tsa\\base\\tsa_model.py:837: ValueWarning: No supported index is available. Prediction results will be given with an integer index beginning at `start`.\n",
      "  return get_prediction_index(\n",
      "c:\\Users\\Hp\\Videos\\Birhan Energies\\myenv\\Lib\\site-packages\\statsmodels\\tsa\\base\\tsa_model.py:837: FutureWarning: No supported index is available. In the next version, calling this method in a model without a supported index will result in an exception.\n",
      "  return get_prediction_index(\n"
     ]
    }
   ],
   "source": [
    "from sklearn.model_selection import TimeSeriesSplit\n",
    "\n",
    "# Define time series cross-validation\n",
    "tscv = TimeSeriesSplit(n_splits=5)\n",
    "\n",
    "# Perform cross-validation\n",
    "rmse_scores = []\n",
    "mae_scores = []\n",
    "\n",
    "for train_index, test_index in tscv.split(data):\n",
    "    train_data = data.iloc[train_index]\n",
    "    test_data = data.iloc[test_index]\n",
    "\n",
    "    # Train ARIMAX model\n",
    "    arimax_model = ARIMA(train_data['Price'], order=(0, 1, 0), exog=train_data[['GDP', 'Inflation', 'Exchange_Rate']])\n",
    "    arimax_results = arimax_model.fit()\n",
    "\n",
    "    # Forecast\n",
    "    forecast = arimax_results.forecast(steps=len(test_data), exog=test_data[['GDP', 'Inflation', 'Exchange_Rate']])\n",
    "\n",
    "    # Evaluate\n",
    "    rmse = np.sqrt(mean_squared_error(test_data['Price'], forecast))\n",
    "    mae = mean_absolute_error(test_data['Price'], forecast)\n",
    "\n",
    "    rmse_scores.append(rmse)\n",
    "    mae_scores.append(mae)\n",
    "\n",
    "# Print results\n",
    "print(f\"Cross-Validation RMSE: {np.mean(rmse_scores):.2f}, MAE: {np.mean(mae_scores):.2f}\")"
   ]
  },
  {
   "cell_type": "code",
   "execution_count": 64,
   "metadata": {},
   "outputs": [
    {
     "name": "stdout",
     "output_type": "stream",
     "text": [
      "Forecasts saved to forecasts.csv.\n"
     ]
    }
   ],
   "source": [
    "# Ensure forecast and volatility_forecast have the same length\n",
    "forecast_len = min(len(forecast), len(volatility_forecast))\n",
    "\n",
    "# Create date range for the forecast period\n",
    "forecast_dates = pd.date_range(data.index[-1], periods=forecast_len + 1, freq='D')[1:]\n",
    "\n",
    "# Save forecasts to a CSV file\n",
    "forecast_df = pd.DataFrame({\n",
    "    'Date': forecast_dates,\n",
    "    'Forecasted_Price': forecast[:forecast_len],\n",
    "    'Forecasted_Volatility': volatility_forecast[:forecast_len]\n",
    "})\n",
    "\n",
    "forecast_df.to_csv('../outputs/forecasts.csv', index=False)\n",
    "print(\"Forecasts saved to forecasts.csv.\")"
   ]
  },
  {
   "cell_type": "code",
   "execution_count": 68,
   "metadata": {},
   "outputs": [
    {
     "data": {
      "image/png": "[encoded data removed]",
      "text/plain": [
       "<Figure size 1200x600 with 1 Axes>"
      ]
     },
     "metadata": {},
     "output_type": "display_data"
    },
    {
     "name": "stdout",
     "output_type": "stream",
     "text": [
      "Visualization saved to price_forecast.png.\n"
     ]
    }
   ],
   "source": [
    "# Save plots as images\n",
    "plt.figure(figsize=(12, 6))\n",
    "plt.plot(data.index[-100:], data['Price'][-100:], label='Observed Prices', color='blue')\n",
    "\n",
    "# Ensure forecast and date range have the same length\n",
    "forecast_len = min(len(forecast), 30)\n",
    "forecast_dates = pd.date_range(data.index[-1], periods=forecast_len + 1, freq='D')[1:]\n",
    "\n",
    "plt.plot(forecast_dates, forecast[:forecast_len], label='ARIMAX Forecast', color='red')\n",
    "plt.title('Brent Oil Price Forecast')\n",
    "plt.xlabel('Date')\n",
    "plt.ylabel('Price (USD per barrel)')\n",
    "plt.legend()\n",
    "plt.grid(True)\n",
    "plt.savefig('../outputs/price_forecast.png', dpi=300)\n",
    "plt.show()\n",
    "\n",
    "print(\"Visualization saved to price_forecast.png.\")"
   ]
  }
 ],
 "metadata": {
  "kernelspec": {
   "display_name": "myenv",
   "language": "python",
   "name": "python3"
  },
  "language_info": {
   "codemirror_mode": {
    "name": "ipython",
    "version": 3
   },
   "file_extension": ".py",
   "mimetype": "text/x-python",
   "name": "python",
   "nbconvert_exporter": "python",
   "pygments_lexer": "ipython3",
   "version": "3.12.3"
  }
 },
 "nbformat": 4,
 "nbformat_minor": 2
}
